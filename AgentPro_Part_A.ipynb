{
  "nbformat": 4,
  "nbformat_minor": 0,
  "metadata": {
    "colab": {
      "provenance": [],
      "include_colab_link": true
    },
    "kernelspec": {
      "name": "python3",
      "display_name": "Python 3"
    },
    "language_info": {
      "name": "python"
    }
  },
  "cells": [
    {
      "cell_type": "markdown",
      "metadata": {
        "id": "view-in-github",
        "colab_type": "text"
      },
      "source": [
        "<a href=\"https://colab.research.google.com/github/nitingopi/agent_from_scratch/blob/main/AgentPro_Part_A.ipynb\" target=\"_parent\"><img src=\"https://colab.research.google.com/assets/colab-badge.svg\" alt=\"Open In Colab\"/></a>"
      ]
    },
    {
      "cell_type": "markdown",
      "source": [],
      "metadata": {
        "id": "u59hzqOwg2ZB"
      }
    },
    {
      "cell_type": "code",
      "source": [
        "!pip install yfinance matplotlib fpdf qiskit python-pptx openai --quiet"
      ],
      "metadata": {
        "colab": {
          "base_uri": "https://localhost:8080/"
        },
        "id": "EfKvogaRzcr2",
        "outputId": "eacc0606-81fe-4feb-cc58-ba10ea4f0c68"
      },
      "execution_count": null,
      "outputs": [
        {
          "output_type": "stream",
          "name": "stdout",
          "text": [
            "  Preparing metadata (setup.py) ... \u001b[?25l\u001b[?25hdone\n",
            "\u001b[2K   \u001b[90m━━━━━━━━━━━━━━━━━━━━━━━━━━━━━━━━━━━━━━━━\u001b[0m \u001b[32m4.8/4.8 MB\u001b[0m \u001b[31m25.1 MB/s\u001b[0m eta \u001b[36m0:00:00\u001b[0m\n",
            "\u001b[2K   \u001b[90m━━━━━━━━━━━━━━━━━━━━━━━━━━━━━━━━━━━━━━━━\u001b[0m \u001b[32m472.8/472.8 kB\u001b[0m \u001b[31m14.4 MB/s\u001b[0m eta \u001b[36m0:00:00\u001b[0m\n",
            "\u001b[2K   \u001b[90m━━━━━━━━━━━━━━━━━━━━━━━━━━━━━━━━━━━━━━━━\u001b[0m \u001b[32m119.4/119.4 kB\u001b[0m \u001b[31m3.0 MB/s\u001b[0m eta \u001b[36m0:00:00\u001b[0m\n",
            "\u001b[2K   \u001b[90m━━━━━━━━━━━━━━━━━━━━━━━━━━━━━━━━━━━━━━━━\u001b[0m \u001b[32m2.0/2.0 MB\u001b[0m \u001b[31m31.1 MB/s\u001b[0m eta \u001b[36m0:00:00\u001b[0m\n",
            "\u001b[2K   \u001b[90m━━━━━━━━━━━━━━━━━━━━━━━━━━━━━━━━━━━━━━━━\u001b[0m \u001b[32m49.7/49.7 kB\u001b[0m \u001b[31m2.3 MB/s\u001b[0m eta \u001b[36m0:00:00\u001b[0m\n",
            "\u001b[2K   \u001b[90m━━━━━━━━━━━━━━━━━━━━━━━━━━━━━━━━━━━━━━━━\u001b[0m \u001b[32m49.7/49.7 MB\u001b[0m \u001b[31m10.6 MB/s\u001b[0m eta \u001b[36m0:00:00\u001b[0m\n",
            "\u001b[2K   \u001b[90m━━━━━━━━━━━━━━━━━━━━━━━━━━━━━━━━━━━━━━━━\u001b[0m \u001b[32m159.9/159.9 kB\u001b[0m \u001b[31m3.6 MB/s\u001b[0m eta \u001b[36m0:00:00\u001b[0m\n",
            "\u001b[2K   \u001b[90m━━━━━━━━━━━━━━━━━━━━━━━━━━━━━━━━━━━━━━━━\u001b[0m \u001b[32m108.5/108.5 kB\u001b[0m \u001b[31m2.1 MB/s\u001b[0m eta \u001b[36m0:00:00\u001b[0m\n",
            "\u001b[?25h  Building wheel for fpdf (setup.py) ... \u001b[?25l\u001b[?25hdone\n"
          ]
        }
      ]
    },
    {
      "cell_type": "code",
      "source": [
        "from openai import OpenAI\n",
        "import os\n",
        "from google.colab import userdata\n",
        "import base64\n",
        "import requests\n",
        "from PIL import Image\n",
        "from io import BytesIO\n",
        "\n",
        "\n",
        "os.environ[\"OPENAI_API_KEY\"] = userdata.get('OPENAI_API_KEY')"
      ],
      "metadata": {
        "id": "JQgEVsExsTDo"
      },
      "execution_count": null,
      "outputs": []
    },
    {
      "cell_type": "code",
      "execution_count": null,
      "metadata": {
        "id": "d4hTdH58sKA3"
      },
      "outputs": [],
      "source": [
        "\n",
        "import subprocess\n",
        "import tempfile\n",
        "import re\n",
        "import importlib\n",
        "import sys\n",
        "\n",
        "class AgentPro:\n",
        "\n",
        "\n",
        "    def generate_code(self, prompt):\n",
        "        client = OpenAI()\n",
        "        response = client.chat.completions.create(\n",
        "        model=\"gpt-4o\",\n",
        "        messages=[\n",
        "          {\"role\": \"system\", \"content\": \"You are a Python code generator. Respond only with executable Python code, no explanations or comments except for required pip installations at the top.\"},\n",
        "          {\"role\": \"user\", \"content\": f\"Generate Python code to {prompt}. If you need to use any external libraries, include a comment at the top of the code listing the required pip installations.\"}\n",
        "        ],\n",
        "        max_tokens=4000,\n",
        "        temperature=0.7,\n",
        "        top_p=1,\n",
        "        frequency_penalty=0,\n",
        "        presence_penalty=0\n",
        "        )\n",
        "        code = re.sub(r'^```python\\n|^```\\n|```$', '', response.choices[0].message.content, flags=re.MULTILINE)\n",
        "        code_lines = code.split('\\n')\n",
        "        while code_lines and not (code_lines[0].startswith('import') or code_lines[0].startswith('from') or code_lines[0].startswith('#')):\n",
        "            code_lines.pop(0)\n",
        "\n",
        "        return '\\n'.join(code_lines)\n",
        "\n",
        "        #return\n",
        "\n",
        "\n",
        "    def install_libraries(self, code):\n",
        "        libraries = re.findall(r'#\\s*pip install\\s+([\\w-]+)', code)\n",
        "        if libraries:\n",
        "            print(\"Installing required libraries...\")\n",
        "            for lib in libraries:\n",
        "                try:\n",
        "                    importlib.import_module(lib.replace('-', '_'))\n",
        "                    print(f\"{lib} is already installed.\")\n",
        "                except ImportError:\n",
        "                    print(f\"Installing {lib}...\")\n",
        "                    subprocess.check_call([sys.executable, \"-m\", \"pip\", \"install\", lib])\n",
        "            print(\"Libraries installed successfully.\")\n",
        "\n",
        "\n",
        "    def execute_code(self, code):\n",
        "        with tempfile.NamedTemporaryFile(mode='w', suffix='.py', delete=False) as temp_file:\n",
        "            temp_file.write(code)\n",
        "            temp_file_path = temp_file.name\n",
        "\n",
        "        try:\n",
        "            result = subprocess.run(['python', temp_file_path], capture_output=True, text=True, timeout=30)\n",
        "            output = result.stdout\n",
        "            error = result.stderr\n",
        "        except subprocess.TimeoutExpired:\n",
        "            output = \"\"\n",
        "            error = \"Execution timed out after 30 seconds.\"\n",
        "        finally:\n",
        "            os.unlink(temp_file_path)\n",
        "\n",
        "        return output, error\n",
        "\n",
        "    def run(self, prompt):\n",
        "        print(f\"Generating code for: {prompt}\")\n",
        "        code = self.generate_code(prompt)\n",
        "        print(\"Generated code:\")\n",
        "        print(code)\n",
        "        print(\"\\nExecuting code...\")\n",
        "        output, error = self.execute_code(code)\n",
        "\n",
        "        if output:\n",
        "            print(\"Output:\")\n",
        "            print(output)\n",
        "        if error:\n",
        "            print(\"Error:\")\n",
        "            print(error)\n",
        "\n"
      ]
    },
    {
      "cell_type": "code",
      "source": [
        "# Example usage\n",
        "if __name__ == \"__main__\":\n",
        "    agent = AgentPro()\n",
        "    agent.run(\"make a detailed deck on the best way to make a colony on Mars and save it as Mars.pptx\")"
      ],
      "metadata": {
        "colab": {
          "base_uri": "https://localhost:8080/"
        },
        "id": "TRLbM5artNk8",
        "outputId": "d5c40c71-f0ca-4d32-97df-1d07709dac8d"
      },
      "execution_count": null,
      "outputs": [
        {
          "output_type": "stream",
          "name": "stdout",
          "text": [
            "Generating code for: make a detailed deck on the best way to make a colony on Mars and save it as Mars.pptx\n",
            "Generated code:\n",
            "# Required installations:\n",
            "# pip install python-pptx\n",
            "\n",
            "from pptx import Presentation\n",
            "from pptx.util import Inches\n",
            "\n",
            "# Create a presentation object\n",
            "prs = Presentation()\n",
            "\n",
            "# Slide 1: Title Slide\n",
            "slide_layout = prs.slide_layouts[0]\n",
            "slide = prs.slides.add_slide(slide_layout)\n",
            "title = slide.shapes.title\n",
            "subtitle = slide.placeholders[1]\n",
            "title.text = \"Colonizing Mars: A Step-by-Step Guide\"\n",
            "subtitle.text = \"Exploring the Red Planet\"\n",
            "\n",
            "# Slide 2: Introduction\n",
            "slide_layout = prs.slide_layouts[1]\n",
            "slide = prs.slides.add_slide(slide_layout)\n",
            "title = slide.shapes.title\n",
            "content = slide.placeholders[1]\n",
            "title.text = \"Introduction\"\n",
            "content.text = (\n",
            "    \"This presentation outlines the steps and considerations for establishing a human colony on Mars. \"\n",
            "    \"It explores the challenges, necessary technology, and strategies for sustainable living on the Red Planet.\"\n",
            ")\n",
            "\n",
            "# Slide 3: Why Mars?\n",
            "slide_layout = prs.slide_layouts[1]\n",
            "slide = prs.slides.add_slide(slide_layout)\n",
            "title = slide.shapes.title\n",
            "content = slide.placeholders[1]\n",
            "title.text = \"Why Mars?\"\n",
            "content.text = (\n",
            "    \"1. Similarity to Earth: Mars is the most Earth-like planet in the solar system.\\n\"\n",
            "    \"2. Potential for Life: Evidence of water and conditions for microbial life.\\n\"\n",
            "    \"3. Exploration: Expanding human presence beyond Earth.\\n\"\n",
            "    \"4. Resources: Potential for mining and utilizing in-situ resources.\"\n",
            ")\n",
            "\n",
            "# Slide 4: Challenges\n",
            "slide_layout = prs.slide_layouts[1]\n",
            "slide = prs.slides.add_slide(slide_layout)\n",
            "title = slide.shapes.title\n",
            "content = slide.placeholders[1]\n",
            "title.text = \"Challenges\"\n",
            "content.text = (\n",
            "    \"1. Distance: Mars is over 140 million miles from Earth.\\n\"\n",
            "    \"2. Harsh Environment: Extreme temperatures and radiation.\\n\"\n",
            "    \"3. Limited Resources: Need for sustainable living solutions.\\n\"\n",
            "    \"4. Psychological Effects: Isolation and confinement.\"\n",
            ")\n",
            "\n",
            "# Slide 5: Key Technologies\n",
            "slide_layout = prs.slide_layouts[1]\n",
            "slide = prs.slides.add_slide(slide_layout)\n",
            "title = slide.shapes.title\n",
            "content = slide.placeholders[1]\n",
            "title.text = \"Key Technologies\"\n",
            "content.text = (\n",
            "    \"1. Spacecraft: Reliable transportation to and from Mars.\\n\"\n",
            "    \"2. Habitats: Safe and sustainable living environments.\\n\"\n",
            "    \"3. Life Support: Systems for air, water, and food.\\n\"\n",
            "    \"4. Energy: Renewable energy sources, like solar power.\\n\"\n",
            "    \"5. Communication: Robust systems for Earth-Mars communication.\"\n",
            ")\n",
            "\n",
            "# Slide 6: Sustainable Living\n",
            "slide_layout = prs.slide_layouts[1]\n",
            "slide = prs.slides.add_slide(slide_layout)\n",
            "title = slide.shapes.title\n",
            "content = slide.placeholders[1]\n",
            "title.text = \"Sustainable Living\"\n",
            "content.text = (\n",
            "    \"1. Agriculture: Growing food using Martian soil and hydroponics.\\n\"\n",
            "    \"2. Water: Extracting water from ice and recycling systems.\\n\"\n",
            "    \"3. Waste Management: Efficient recycling and waste reduction.\\n\"\n",
            "    \"4. Community: Building a cooperative and supportive society.\"\n",
            ")\n",
            "\n",
            "# Slide 7: Conclusion\n",
            "slide_layout = prs.slide_layouts[1]\n",
            "slide = prs.slides.add_slide(slide_layout)\n",
            "title = slide.shapes.title\n",
            "content = slide.placeholders[1]\n",
            "title.text = \"Conclusion\"\n",
            "content.text = (\n",
            "    \"Establishing a colony on Mars is a monumental task that requires careful planning, \"\n",
            "    \"technological innovation, and international collaboration. By addressing the challenges and utilizing \"\n",
            "    \"the resources available, humanity can create a sustainable presence on the Red Planet.\"\n",
            ")\n",
            "\n",
            "# Save the presentation\n",
            "prs.save('Mars.pptx')\n",
            "\n",
            "\n",
            "Executing code...\n"
          ]
        }
      ]
    },
    {
      "cell_type": "code",
      "source": [],
      "metadata": {
        "id": "Dyodw6yLFmXQ"
      },
      "execution_count": null,
      "outputs": []
    }
  ]
}